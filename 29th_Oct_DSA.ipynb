{
 "cells": [
  {
   "cell_type": "code",
   "execution_count": 2,
   "id": "bf858eab-1f49-4d32-8dfe-227af5845f79",
   "metadata": {},
   "outputs": [
    {
     "data": {
      "text/plain": [
       "True"
      ]
     },
     "execution_count": 2,
     "metadata": {},
     "output_type": "execute_result"
    }
   ],
   "source": [
    "#1. Given an array, check if it contains any duplicates or not.\n",
    "#time complexity: O(n)\n",
    "#space complexity: O(n)\n",
    "def duplicates(arr):\n",
    "    new_arr=[]\n",
    "    for i in arr:\n",
    "        if i not in new_arr:\n",
    "            new_arr.append(i)\n",
    "        else:\n",
    "            return Output\n",
    "\n",
    "#driver code       \n",
    "arr = [1, 2, 4, 2, 5, 9]\n",
    "Output = True\n",
    "duplicates(arr)"
   ]
  },
  {
   "cell_type": "code",
   "execution_count": 3,
   "id": "88f7d9fa-5d59-40a6-8d52-c8db17119835",
   "metadata": {},
   "outputs": [
    {
     "data": {
      "text/plain": [
       "[5, 6, 7, 1, 2, 3, 4]"
      ]
     },
     "execution_count": 3,
     "metadata": {},
     "output_type": "execute_result"
    }
   ],
   "source": [
    "#2. Given an array and an integer k, rotate the array to the right by k steps.\n",
    "#time complexity: O(n)\n",
    "#space complexity: O(1)\n",
    "def rotate(arr):\n",
    "    k=3\n",
    "    rotated_arr=arr[-k:]+arr[:-k]\n",
    "    return rotated_arr\n",
    "rotate([1, 2, 3, 4, 5, 6, 7])"
   ]
  },
  {
   "cell_type": "code",
   "execution_count": null,
   "id": "6ba22164-9311-4098-9728-a17c6137abcc",
   "metadata": {},
   "outputs": [],
   "source": [
    "#3. Reverse the given array in-place, means without using any extra data structure.\n",
    "#time complexity: O(n)\n",
    "#space complexity: O(1)\n",
    "def reverse_array_in_place(arr):\n",
    "    start = 0\n",
    "    end = len(arr) - 1\n",
    "\n",
    "    while start < end:\n",
    "        # Swap the elements at the start and end positions\n",
    "        arr[start], arr[end] = arr[end], arr[start]\n",
    "        start += 1\n",
    "        end -= 1\n",
    "\n",
    "arr = [2, 4, 5, 7, 9, 12]\n",
    "reverse_array_in_place(arr)\n",
    "print(arr)   "
   ]
  },
  {
   "cell_type": "code",
   "execution_count": null,
   "id": "140f0c33-8c81-4778-962c-f1755f2a8f78",
   "metadata": {},
   "outputs": [],
   "source": [
    "#4. Given an array of integers, find the maximum element in an array\n",
    "arr = [10, 5, 20, 8, 15]\n",
    "#Output = 20\n",
    "\n",
    "n=0\n",
    "for i in arr:\n",
    "    if i>n:\n",
    "        n=i\n",
    "print(n)"
   ]
  },
  {
   "cell_type": "code",
   "execution_count": null,
   "id": "aa67c9db-a89a-4163-bf49-291ebf08a1a2",
   "metadata": {},
   "outputs": [],
   "source": [
    "#5. Given a sorted array, remove the duplicate element without using any extra data structure.\n",
    "arr = [1, 1, 2, 2, 2, 3, 3, 4, 4, 4, 5, 5]\n",
    "Output = [1, 2, 3, 4, 5]\n",
    "\n",
    "def remove_duplicates(arr):\n",
    "    if len(arr) == 0:\n",
    "        return arr\n",
    "\n",
    "    index = 0  # Initialize the index for the new unique elements\n",
    "\n",
    "    for i in range(1, len(arr)):\n",
    "        if arr[i] != arr[index]:\n",
    "            index += 1\n",
    "            arr[index] = arr[i]\n",
    "\n",
    "    return arr[:index + 1]\n",
    "\n",
    "arr = [1, 1, 2, 2, 2, 3, 3, 4, 4, 4, 5, 5]\n",
    "result = remove_duplicates(arr)\n",
    "print(result)"
   ]
  }
 ],
 "metadata": {
  "kernelspec": {
   "display_name": "Python 3 (ipykernel)",
   "language": "python",
   "name": "python3"
  },
  "language_info": {
   "codemirror_mode": {
    "name": "ipython",
    "version": 3
   },
   "file_extension": ".py",
   "mimetype": "text/x-python",
   "name": "python",
   "nbconvert_exporter": "python",
   "pygments_lexer": "ipython3",
   "version": "3.10.8"
  }
 },
 "nbformat": 4,
 "nbformat_minor": 5
}
